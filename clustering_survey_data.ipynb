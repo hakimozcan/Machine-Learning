{
  "nbformat": 4,
  "nbformat_minor": 0,
  "metadata": {
    "colab": {
      "provenance": [],
      "collapsed_sections": [
        "Yu98xNswmb3y",
        "sP67sMS4mXPk",
        "LoEpZHEa61-2"
      ],
      "mount_file_id": "1BfgPwfeivCUKi5jnJ81f1rNX7yDHeyDd",
      "authorship_tag": "ABX9TyOvbULXh+kbMB1ss9bS9EzU",
      "include_colab_link": true
    },
    "kernelspec": {
      "name": "python3",
      "display_name": "Python 3"
    },
    "language_info": {
      "name": "python"
    }
  },
  "cells": [
    {
      "cell_type": "markdown",
      "metadata": {
        "id": "view-in-github",
        "colab_type": "text"
      },
      "source": [
        "<a href=\"https://colab.research.google.com/github/hakimozcan/Machine-Learning/blob/main/clustering_survey_data.ipynb\" target=\"_parent\"><img src=\"https://colab.research.google.com/assets/colab-badge.svg\" alt=\"Open In Colab\"/></a>"
      ]
    },
    {
      "cell_type": "markdown",
      "source": [
        "# Clustering Survey Data to Create Personas\n",
        "## Recommender System Prototype"
      ],
      "metadata": {
        "id": "6DZOYpzcMdeb"
      }
    },
    {
      "cell_type": "markdown",
      "source": [
        "# Import Packages"
      ],
      "metadata": {
        "id": "glUQJrk2LGK4"
      }
    },
    {
      "cell_type": "code",
      "execution_count": null,
      "metadata": {
        "id": "izl-ORQtKw7L"
      },
      "outputs": [],
      "source": [
        "import pandas as pd\n",
        "from sklearn.preprocessing import LabelEncoder, StandardScaler\n",
        "from sklearn.cluster import KMeans\n",
        "from sklearn.decomposition import PCA\n",
        "from sklearn.metrics import silhouette_score\n",
        "import matplotlib.pyplot as plt"
      ]
    },
    {
      "cell_type": "markdown",
      "source": [
        "# Data Preprocessing"
      ],
      "metadata": {
        "id": "0msq6QxRNCbM"
      }
    },
    {
      "cell_type": "code",
      "source": [
        "from google.colab import drive\n",
        "drive.mount('/content/drive')"
      ],
      "metadata": {
        "id": "UXWmNbXmNsE-",
        "colab": {
          "base_uri": "https://localhost:8080/"
        },
        "outputId": "b5b3b676-7fe1-4ec2-f7e7-8a3df7997b6d"
      },
      "execution_count": null,
      "outputs": [
        {
          "output_type": "stream",
          "name": "stdout",
          "text": [
            "Drive already mounted at /content/drive; to attempt to forcibly remount, call drive.mount(\"/content/drive\", force_remount=True).\n"
          ]
        }
      ]
    },
    {
      "cell_type": "code",
      "source": [
        "survey_response = pd.read_csv(\"/content/drive/MyDrive/UU_ADS/INFOMPPM/survey_responses.csv\")\n",
        "survey_response.shape"
      ],
      "metadata": {
        "id": "0GRxuunKNCCk",
        "colab": {
          "base_uri": "https://localhost:8080/"
        },
        "outputId": "31fd2432-5cc1-48c6-8933-541ad22f0f22"
      },
      "execution_count": null,
      "outputs": [
        {
          "output_type": "execute_result",
          "data": {
            "text/plain": [
              "(93, 16)"
            ]
          },
          "metadata": {},
          "execution_count": 2
        }
      ]
    },
    {
      "cell_type": "code",
      "source": [
        "# Create a copy of the DataFrame\n",
        "df = survey_response.copy()\n",
        "\n",
        "# Rename columns for readability\n",
        "df = df.rename(columns = {'Please provide your age range:': 'age',\n",
        "                          'Please indicate your gender:': 'gender',\n",
        "                          'What is your occupation (e.g., student, employed etc.)? ': 'occupation',\n",
        "                          'How important is content diversity (e.g., different genres, themes, formats etc. ) in your viewing recommendations?': 'content_diversity',\n",
        "                          'How important is people diversity (e.g., representation of different cultures, races, genders, sexualities etc.) in your viewing recommendations?': 'people_diversity',\n",
        "                          'How important is it for you to have personalized content recommendations?': 'personalization',\n",
        "                          'How important is it for you to control the kinds of content recommendations you get?': 'autonomy',\n",
        "                          'Please rank the following in terms of how important they are to you when it comes to receiving content recommendations: [Recommendations that are tailored to your interests]': 'personalization_rank',\n",
        "                          'Please rank the following in terms of how important they are to you when it comes to receiving content recommendations: [Recommendations that show you new and varied options]': 'diversity_rank',\n",
        "                          'Please rank the following in terms of how important they are to you when it comes to receiving content recommendations: [Being able to control the types of recommendations you receive]': 'autonomy_rank',\n",
        "                          'How often do you watch history-related content?': 'hist_freq',\n",
        "                          'What kinds of history content are you most interested in? (Select all that apply)': 'history_category',\n",
        "                          'What is your primary motivation in watching history content?': 'history_motivation',\n",
        "                          'How satisfied are you with the current recommendations for history content?': 'satisfaction_level',\n",
        "                          'What are the biggest challenges or frustrations you face when receiving recommendations for history content on streaming platforms?': 'comment'\n",
        "                          })\n",
        "\n",
        "\n",
        "\n",
        "# Drop the columns that might not be very necessary for clustering\n",
        "df = df.drop(['Timestamp', 'comment', 'history_motivation'], axis=1)\n",
        "\n",
        "# Drop the row that contains \"Under 18\"\n",
        "df = df.drop(df[df['age'] == 'Under 18'].index)\n",
        "\n",
        "\n",
        "# Replace different variations (spelling) of the student with string \"Student\".\n",
        "df['occupation'] = df['occupation'].replace(['Student ', 'Stident', 'student', 'student ', 'masters student', 'Student; part time employed', 'Employed (1fte) & student', 'Master student'], 'Student')\n",
        "\n",
        "# Put different professions into the same category of \"Employed\".\n",
        "df['occupation'] = df['occupation'].replace(['Treasury Analyst','Architect','engineer ','Asistant store manager','Psychological Counselor','Manager','Accountant','Medical Doctor','Researcher',\n",
        "                                             'vr developer', 'White collar', 'Model', 'Attorney', 'employer', 'Employee', 'Employed', 'Employed ', 'employed'], 'Employed')\n",
        "\n",
        "# Replace different variations (spelling) of the unemployed with string \"Unemployed\".\n",
        "df['occupation'] = df['occupation'].replace(['Unemployed', 'unemployed'], 'Unemployed')\n",
        "\n",
        "\n",
        "df.head()"
      ],
      "metadata": {
        "id": "Oi0-KkBITRna",
        "colab": {
          "base_uri": "https://localhost:8080/",
          "height": 337
        },
        "outputId": "23621667-95d9-446a-a3a0-090ee190b119"
      },
      "execution_count": null,
      "outputs": [
        {
          "output_type": "execute_result",
          "data": {
            "text/plain": [
              "     age  gender occupation   content_diversity      people_diversity  \\\n",
              "0  25-34    Male    Student      Very important  Somewhat unimportant   \n",
              "1  18-24  Female    Student      Very important    Somewhat important   \n",
              "2  35-44    Male   Employed    Very unimportant      Very unimportant   \n",
              "3  25-34    Male   Employed      Very important        Very important   \n",
              "4  45-54    Male   Employed  Somewhat important    Somewhat important   \n",
              "\n",
              "      personalization            autonomy personalization_rank diversity_rank  \\\n",
              "0      Very important      Very important           1st Choice     2nd Choice   \n",
              "1  Somewhat important  Somewhat important           1st Choice     3rd Choice   \n",
              "2    Very unimportant    Very unimportant           2nd Choice     1st Choice   \n",
              "3  Somewhat important  Somewhat important           3rd Choice     2nd Choice   \n",
              "4      Very important      Very important           1st Choice     2nd Choice   \n",
              "\n",
              "  autonomy_rank  hist_freq                                   history_category  \\\n",
              "0    3rd Choice      Often                                    Ancient history   \n",
              "1    2nd Choice  Sometimes  Social and cultural history;Science and techno...   \n",
              "2    3rd Choice      Often           Modern history;Art history;World history   \n",
              "3    1st Choice     Always                                    Ancient history   \n",
              "4    3rd Choice      Often  Social and cultural history;Science and techno...   \n",
              "\n",
              "      satisfaction_level  \n",
              "0         Very satisfied  \n",
              "1  Somewhat dissatisfied  \n",
              "2                Neutral  \n",
              "3     Somewhat satisfied  \n",
              "4     Somewhat satisfied  "
            ],
            "text/html": [
              "\n",
              "  <div id=\"df-32ec1159-9695-4733-a622-337d421a78b0\">\n",
              "    <div class=\"colab-df-container\">\n",
              "      <div>\n",
              "<style scoped>\n",
              "    .dataframe tbody tr th:only-of-type {\n",
              "        vertical-align: middle;\n",
              "    }\n",
              "\n",
              "    .dataframe tbody tr th {\n",
              "        vertical-align: top;\n",
              "    }\n",
              "\n",
              "    .dataframe thead th {\n",
              "        text-align: right;\n",
              "    }\n",
              "</style>\n",
              "<table border=\"1\" class=\"dataframe\">\n",
              "  <thead>\n",
              "    <tr style=\"text-align: right;\">\n",
              "      <th></th>\n",
              "      <th>age</th>\n",
              "      <th>gender</th>\n",
              "      <th>occupation</th>\n",
              "      <th>content_diversity</th>\n",
              "      <th>people_diversity</th>\n",
              "      <th>personalization</th>\n",
              "      <th>autonomy</th>\n",
              "      <th>personalization_rank</th>\n",
              "      <th>diversity_rank</th>\n",
              "      <th>autonomy_rank</th>\n",
              "      <th>hist_freq</th>\n",
              "      <th>history_category</th>\n",
              "      <th>satisfaction_level</th>\n",
              "    </tr>\n",
              "  </thead>\n",
              "  <tbody>\n",
              "    <tr>\n",
              "      <th>0</th>\n",
              "      <td>25-34</td>\n",
              "      <td>Male</td>\n",
              "      <td>Student</td>\n",
              "      <td>Very important</td>\n",
              "      <td>Somewhat unimportant</td>\n",
              "      <td>Very important</td>\n",
              "      <td>Very important</td>\n",
              "      <td>1st Choice</td>\n",
              "      <td>2nd Choice</td>\n",
              "      <td>3rd Choice</td>\n",
              "      <td>Often</td>\n",
              "      <td>Ancient history</td>\n",
              "      <td>Very satisfied</td>\n",
              "    </tr>\n",
              "    <tr>\n",
              "      <th>1</th>\n",
              "      <td>18-24</td>\n",
              "      <td>Female</td>\n",
              "      <td>Student</td>\n",
              "      <td>Very important</td>\n",
              "      <td>Somewhat important</td>\n",
              "      <td>Somewhat important</td>\n",
              "      <td>Somewhat important</td>\n",
              "      <td>1st Choice</td>\n",
              "      <td>3rd Choice</td>\n",
              "      <td>2nd Choice</td>\n",
              "      <td>Sometimes</td>\n",
              "      <td>Social and cultural history;Science and techno...</td>\n",
              "      <td>Somewhat dissatisfied</td>\n",
              "    </tr>\n",
              "    <tr>\n",
              "      <th>2</th>\n",
              "      <td>35-44</td>\n",
              "      <td>Male</td>\n",
              "      <td>Employed</td>\n",
              "      <td>Very unimportant</td>\n",
              "      <td>Very unimportant</td>\n",
              "      <td>Very unimportant</td>\n",
              "      <td>Very unimportant</td>\n",
              "      <td>2nd Choice</td>\n",
              "      <td>1st Choice</td>\n",
              "      <td>3rd Choice</td>\n",
              "      <td>Often</td>\n",
              "      <td>Modern history;Art history;World history</td>\n",
              "      <td>Neutral</td>\n",
              "    </tr>\n",
              "    <tr>\n",
              "      <th>3</th>\n",
              "      <td>25-34</td>\n",
              "      <td>Male</td>\n",
              "      <td>Employed</td>\n",
              "      <td>Very important</td>\n",
              "      <td>Very important</td>\n",
              "      <td>Somewhat important</td>\n",
              "      <td>Somewhat important</td>\n",
              "      <td>3rd Choice</td>\n",
              "      <td>2nd Choice</td>\n",
              "      <td>1st Choice</td>\n",
              "      <td>Always</td>\n",
              "      <td>Ancient history</td>\n",
              "      <td>Somewhat satisfied</td>\n",
              "    </tr>\n",
              "    <tr>\n",
              "      <th>4</th>\n",
              "      <td>45-54</td>\n",
              "      <td>Male</td>\n",
              "      <td>Employed</td>\n",
              "      <td>Somewhat important</td>\n",
              "      <td>Somewhat important</td>\n",
              "      <td>Very important</td>\n",
              "      <td>Very important</td>\n",
              "      <td>1st Choice</td>\n",
              "      <td>2nd Choice</td>\n",
              "      <td>3rd Choice</td>\n",
              "      <td>Often</td>\n",
              "      <td>Social and cultural history;Science and techno...</td>\n",
              "      <td>Somewhat satisfied</td>\n",
              "    </tr>\n",
              "  </tbody>\n",
              "</table>\n",
              "</div>\n",
              "      <button class=\"colab-df-convert\" onclick=\"convertToInteractive('df-32ec1159-9695-4733-a622-337d421a78b0')\"\n",
              "              title=\"Convert this dataframe to an interactive table.\"\n",
              "              style=\"display:none;\">\n",
              "        \n",
              "  <svg xmlns=\"http://www.w3.org/2000/svg\" height=\"24px\"viewBox=\"0 0 24 24\"\n",
              "       width=\"24px\">\n",
              "    <path d=\"M0 0h24v24H0V0z\" fill=\"none\"/>\n",
              "    <path d=\"M18.56 5.44l.94 2.06.94-2.06 2.06-.94-2.06-.94-.94-2.06-.94 2.06-2.06.94zm-11 1L8.5 8.5l.94-2.06 2.06-.94-2.06-.94L8.5 2.5l-.94 2.06-2.06.94zm10 10l.94 2.06.94-2.06 2.06-.94-2.06-.94-.94-2.06-.94 2.06-2.06.94z\"/><path d=\"M17.41 7.96l-1.37-1.37c-.4-.4-.92-.59-1.43-.59-.52 0-1.04.2-1.43.59L10.3 9.45l-7.72 7.72c-.78.78-.78 2.05 0 2.83L4 21.41c.39.39.9.59 1.41.59.51 0 1.02-.2 1.41-.59l7.78-7.78 2.81-2.81c.8-.78.8-2.07 0-2.86zM5.41 20L4 18.59l7.72-7.72 1.47 1.35L5.41 20z\"/>\n",
              "  </svg>\n",
              "      </button>\n",
              "      \n",
              "  <style>\n",
              "    .colab-df-container {\n",
              "      display:flex;\n",
              "      flex-wrap:wrap;\n",
              "      gap: 12px;\n",
              "    }\n",
              "\n",
              "    .colab-df-convert {\n",
              "      background-color: #E8F0FE;\n",
              "      border: none;\n",
              "      border-radius: 50%;\n",
              "      cursor: pointer;\n",
              "      display: none;\n",
              "      fill: #1967D2;\n",
              "      height: 32px;\n",
              "      padding: 0 0 0 0;\n",
              "      width: 32px;\n",
              "    }\n",
              "\n",
              "    .colab-df-convert:hover {\n",
              "      background-color: #E2EBFA;\n",
              "      box-shadow: 0px 1px 2px rgba(60, 64, 67, 0.3), 0px 1px 3px 1px rgba(60, 64, 67, 0.15);\n",
              "      fill: #174EA6;\n",
              "    }\n",
              "\n",
              "    [theme=dark] .colab-df-convert {\n",
              "      background-color: #3B4455;\n",
              "      fill: #D2E3FC;\n",
              "    }\n",
              "\n",
              "    [theme=dark] .colab-df-convert:hover {\n",
              "      background-color: #434B5C;\n",
              "      box-shadow: 0px 1px 3px 1px rgba(0, 0, 0, 0.15);\n",
              "      filter: drop-shadow(0px 1px 2px rgba(0, 0, 0, 0.3));\n",
              "      fill: #FFFFFF;\n",
              "    }\n",
              "  </style>\n",
              "\n",
              "      <script>\n",
              "        const buttonEl =\n",
              "          document.querySelector('#df-32ec1159-9695-4733-a622-337d421a78b0 button.colab-df-convert');\n",
              "        buttonEl.style.display =\n",
              "          google.colab.kernel.accessAllowed ? 'block' : 'none';\n",
              "\n",
              "        async function convertToInteractive(key) {\n",
              "          const element = document.querySelector('#df-32ec1159-9695-4733-a622-337d421a78b0');\n",
              "          const dataTable =\n",
              "            await google.colab.kernel.invokeFunction('convertToInteractive',\n",
              "                                                     [key], {});\n",
              "          if (!dataTable) return;\n",
              "\n",
              "          const docLinkHtml = 'Like what you see? Visit the ' +\n",
              "            '<a target=\"_blank\" href=https://colab.research.google.com/notebooks/data_table.ipynb>data table notebook</a>'\n",
              "            + ' to learn more about interactive tables.';\n",
              "          element.innerHTML = '';\n",
              "          dataTable['output_type'] = 'display_data';\n",
              "          await google.colab.output.renderOutput(dataTable, element);\n",
              "          const docLink = document.createElement('div');\n",
              "          docLink.innerHTML = docLinkHtml;\n",
              "          element.appendChild(docLink);\n",
              "        }\n",
              "      </script>\n",
              "    </div>\n",
              "  </div>\n",
              "  "
            ]
          },
          "metadata": {},
          "execution_count": 3
        }
      ]
    },
    {
      "cell_type": "code",
      "source": [
        "df['occupation'].unique()"
      ],
      "metadata": {
        "colab": {
          "base_uri": "https://localhost:8080/"
        },
        "id": "qV4fg9-6tCXq",
        "outputId": "b54b612b-a014-46f3-c730-0a13401a9833"
      },
      "execution_count": null,
      "outputs": [
        {
          "output_type": "execute_result",
          "data": {
            "text/plain": [
              "array(['Student', 'Employed', 'Unemployed'], dtype=object)"
            ]
          },
          "metadata": {},
          "execution_count": 4
        }
      ]
    },
    {
      "cell_type": "code",
      "source": [
        "df.shape"
      ],
      "metadata": {
        "id": "Nudg14W3XidW",
        "colab": {
          "base_uri": "https://localhost:8080/"
        },
        "outputId": "8def9cff-e0e6-44f3-eb2c-8b133b77261f"
      },
      "execution_count": null,
      "outputs": [
        {
          "output_type": "execute_result",
          "data": {
            "text/plain": [
              "(92, 12)"
            ]
          },
          "metadata": {},
          "execution_count": 5
        }
      ]
    },
    {
      "cell_type": "markdown",
      "source": [
        "## Converting categorical columns into numerical format"
      ],
      "metadata": {
        "id": "PmRL21bStHm_"
      }
    },
    {
      "cell_type": "code",
      "source": [
        "df_num = df.copy()\n",
        "# df_num.drop(['hist_freq', 'satisfaction_level'], axis=1, inplace=True)"
      ],
      "metadata": {
        "id": "1le3K6LFeyqg"
      },
      "execution_count": null,
      "outputs": []
    },
    {
      "cell_type": "code",
      "source": [
        "## Define a list of the columns to encode\n",
        "cols_to_encode = ['age', 'gender', 'occupation', 'content_diversity', 'people_diversity', 'personalization', 'autonomy', 'hist_freq', 'satisfaction_level']\n",
        "\n",
        "# Use pandas.get_dummies() to perform one-hot encoding on the columns to encode\n",
        "one_hot = pd.get_dummies(df_num[cols_to_encode])\n",
        "\n",
        "# Concatenate the one-hot encoded columns with the original data frame\n",
        "df_num = pd.concat([df_num, one_hot], axis=1)\n",
        "\n",
        "# Drop the original columns\n",
        "df_num.drop(cols_to_encode, axis=1, inplace=True)\n",
        "\n",
        "\n",
        "\n",
        "# Convert ranking preferences into numerical format:\n",
        "ranking_mapping = {\"1st Choice\": 1, \"2nd Choice\": 2, \"3rd Choice\": 3}\n",
        "\n",
        "for col in ['personalization_rank', 'diversity_rank', 'autonomy_rank']:\n",
        "    df_num[col] = df_num[col].map(ranking_mapping)\n",
        "\n",
        "df_num.head()"
      ],
      "metadata": {
        "id": "8novFRfmtKhT"
      },
      "execution_count": null,
      "outputs": []
    },
    {
      "cell_type": "code",
      "source": [
        "df_num.shape"
      ],
      "metadata": {
        "id": "4L4vZ6BoXYWB",
        "colab": {
          "base_uri": "https://localhost:8080/"
        },
        "outputId": "9cc8e835-3d23-4381-8dab-73d62efc22c4"
      },
      "execution_count": null,
      "outputs": [
        {
          "output_type": "execute_result",
          "data": {
            "text/plain": [
              "(92, 43)"
            ]
          },
          "metadata": {},
          "execution_count": 12
        }
      ]
    },
    {
      "cell_type": "markdown",
      "source": [
        "# Clustering"
      ],
      "metadata": {
        "id": "kw634smDo2KE"
      }
    },
    {
      "cell_type": "markdown",
      "source": [
        "## Silhouette Score"
      ],
      "metadata": {
        "id": "Yu98xNswmb3y"
      }
    },
    {
      "cell_type": "code",
      "source": [
        "# Define a list of the columns to use for clustering\n",
        "cols_to_cluster = list(df_num.columns)\n",
        "\n",
        "# Create a KMeans clustering object with the desired number of clusters\n",
        "num_of_clusters = 2\n",
        "max_clusters = 10\n",
        "\n",
        "# Silhouette Score\n",
        "def find_optimal_clusters_silhouette(data, min_clusters, max_clusters):\n",
        "    silhouette_scores = []\n",
        "    for n_clusters in range(min_clusters, max_clusters+1):\n",
        "        kmeans = KMeans(n_clusters=n_clusters, n_init=10)\n",
        "        kmeans.fit(data)\n",
        "        labels = kmeans.labels_\n",
        "        score = silhouette_score(data, labels)\n",
        "        silhouette_scores.append(score)\n",
        "\n",
        "    best_n_clusters = silhouette_scores.index(max(silhouette_scores)) + min_clusters\n",
        "    return best_n_clusters, max(silhouette_scores)\n",
        "\n",
        "min_clusters = 2\n",
        "best_n_clusters, best_silhouette_score = find_optimal_clusters_silhouette(df_num[cols_to_cluster], min_clusters, max_clusters)\n",
        "print(f\"The optimal number of clusters is {best_n_clusters} with a silhouette score of {best_silhouette_score:.3f}\")"
      ],
      "metadata": {
        "colab": {
          "base_uri": "https://localhost:8080/"
        },
        "id": "FzZVP6y3mqPX",
        "outputId": "86dc6db7-7f2a-420a-cf64-04a700eec8cd"
      },
      "execution_count": null,
      "outputs": [
        {
          "output_type": "stream",
          "name": "stdout",
          "text": [
            "The optimal number of clusters is 2 with a silhouette score of 0.281\n"
          ]
        }
      ]
    },
    {
      "cell_type": "markdown",
      "source": [
        "## Elbow Method"
      ],
      "metadata": {
        "id": "sP67sMS4mXPk"
      }
    },
    {
      "cell_type": "code",
      "source": [
        "# Elbow Method\n",
        "def find_optimal_clusters_elbow(data, max_clusters):\n",
        "    inertia_values = []\n",
        "    for k in range(1, max_clusters + 1):\n",
        "        kmeans = KMeans(n_clusters=k)\n",
        "        kmeans.fit(data)\n",
        "        inertia_values.append(kmeans.inertia_)\n",
        "\n",
        "    plt.figure(figsize=(8, 4))\n",
        "    plt.plot(range(1, max_clusters + 1), inertia_values, 'o-')\n",
        "    plt.xlabel('Number of Clusters')\n",
        "    plt.ylabel('Inertia')\n",
        "    plt.title('Elbow Method for Optimal Number of Clusters')\n",
        "    plt.show()\n",
        "\n",
        "find_optimal_clusters_elbow(df_num[cols_to_cluster], max_clusters)"
      ],
      "metadata": {
        "colab": {
          "base_uri": "https://localhost:8080/",
          "height": 558
        },
        "id": "GbfsIghYdDc-",
        "outputId": "e3f0b8cb-6e1e-411e-acb8-ab7b3c3aa708"
      },
      "execution_count": null,
      "outputs": [
        {
          "output_type": "stream",
          "name": "stderr",
          "text": [
            "/usr/local/lib/python3.9/dist-packages/sklearn/cluster/_kmeans.py:870: FutureWarning: The default value of `n_init` will change from 10 to 'auto' in 1.4. Set the value of `n_init` explicitly to suppress the warning\n",
            "  warnings.warn(\n",
            "/usr/local/lib/python3.9/dist-packages/sklearn/cluster/_kmeans.py:870: FutureWarning: The default value of `n_init` will change from 10 to 'auto' in 1.4. Set the value of `n_init` explicitly to suppress the warning\n",
            "  warnings.warn(\n",
            "/usr/local/lib/python3.9/dist-packages/sklearn/cluster/_kmeans.py:870: FutureWarning: The default value of `n_init` will change from 10 to 'auto' in 1.4. Set the value of `n_init` explicitly to suppress the warning\n",
            "  warnings.warn(\n",
            "/usr/local/lib/python3.9/dist-packages/sklearn/cluster/_kmeans.py:870: FutureWarning: The default value of `n_init` will change from 10 to 'auto' in 1.4. Set the value of `n_init` explicitly to suppress the warning\n",
            "  warnings.warn(\n",
            "/usr/local/lib/python3.9/dist-packages/sklearn/cluster/_kmeans.py:870: FutureWarning: The default value of `n_init` will change from 10 to 'auto' in 1.4. Set the value of `n_init` explicitly to suppress the warning\n",
            "  warnings.warn(\n",
            "/usr/local/lib/python3.9/dist-packages/sklearn/cluster/_kmeans.py:870: FutureWarning: The default value of `n_init` will change from 10 to 'auto' in 1.4. Set the value of `n_init` explicitly to suppress the warning\n",
            "  warnings.warn(\n",
            "/usr/local/lib/python3.9/dist-packages/sklearn/cluster/_kmeans.py:870: FutureWarning: The default value of `n_init` will change from 10 to 'auto' in 1.4. Set the value of `n_init` explicitly to suppress the warning\n",
            "  warnings.warn(\n"
          ]
        },
        {
          "output_type": "display_data",
          "data": {
            "text/plain": [
              "<Figure size 576x288 with 1 Axes>"
            ],
            "image/png": "[encoded data removed]"
          },
          "metadata": {
            "needs_background": "light"
          }
        }
      ]
    },
    {
      "cell_type": "markdown",
      "source": [
        "## K-Means Clustering"
      ],
      "metadata": {
        "id": "LoEpZHEa61-2"
      }
    },
    {
      "cell_type": "code",
      "source": [
        "# KMeans Clustering\n",
        "kmeans = KMeans(n_clusters=best_n_clusters)\n",
        "clusters = kmeans.fit_predict(df_num[cols_to_cluster])\n",
        "df_num['cluster'] = clusters\n",
        "\n",
        "# PCA for visualization\n",
        "n_components = 2\n",
        "pca = PCA(n_components=n_components)\n",
        "pca_cols = pca.fit_transform(df_num[cols_to_cluster])\n",
        "df_num['pca1'] = pca_cols[:,0]\n",
        "df_num['pca2'] = pca_cols[:,1]\n",
        "\n",
        "# Plot the clusters using the first two principal components as the x and y axes\n",
        "plt.scatter(df_num['pca1'], df_num['pca2'], c=df_num['cluster'])\n",
        "plt.xlabel('PC1')\n",
        "plt.ylabel('PC2')\n",
        "plt.title('KMeans Clustering Results')\n",
        "plt.show()"
      ],
      "metadata": {
        "colab": {
          "base_uri": "https://localhost:8080/",
          "height": 526
        },
        "id": "ci2OrWgU6x3G",
        "outputId": "20b57672-0c4a-46ca-97a7-32c2f9a796a3"
      },
      "execution_count": null,
      "outputs": [
        {
          "output_type": "stream",
          "name": "stderr",
          "text": [
            "/usr/local/lib/python3.9/dist-packages/sklearn/cluster/_kmeans.py:870: FutureWarning: The default value of `n_init` will change from 10 to 'auto' in 1.4. Set the value of `n_init` explicitly to suppress the warning\n",
            "  warnings.warn(\n"
          ]
        },
        {
          "output_type": "display_data",
          "data": {
            "text/plain": [
              "<Figure size 640x480 with 1 Axes>"
            ],
            "image/png": "[encoded data removed]"
          },
          "metadata": {}
        }
      ]
    },
    {
      "cell_type": "markdown",
      "source": [
        "# Personas"
      ],
      "metadata": {
        "id": "Epu-7Db7xeni"
      }
    },
    {
      "cell_type": "markdown",
      "source": [
        "After successfully identifying the clusters, the next step is to incorporate them into the original data frame and create a duplicate for further analysis. To facilitate understanding of each persona's characteristics, we convert the categorical values in this data frame into numerical formats. This transformation enables us to quantitatively uncover the overall characteristics of each persona, and gain a better understanding into their behavior and preferences."
      ],
      "metadata": {
        "id": "3P6FmUgfyoKT"
      }
    },
    {
      "cell_type": "code",
      "source": [
        "df_clus = df.copy()\n",
        "df_clus['cluster'] = clusters\n",
        "df_clus.head()"
      ],
      "metadata": {
        "colab": {
          "base_uri": "https://localhost:8080/",
          "height": 206
        },
        "id": "5IsUqCgU0_ah",
        "outputId": "f612fbf6-d6f6-4be3-c23a-e7ed55b96986"
      },
      "execution_count": null,
      "outputs": [
        {
          "output_type": "execute_result",
          "data": {
            "text/plain": [
              "     age  gender occupation   content_diversity      people_diversity  \\\n",
              "0  25-34    Male    Student      Very important  Somewhat unimportant   \n",
              "1  18-24  Female    Student      Very important    Somewhat important   \n",
              "2  35-44    Male   Employed    Very unimportant      Very unimportant   \n",
              "3  25-34    Male   Employed      Very important        Very important   \n",
              "4  45-54    Male   Employed  Somewhat important    Somewhat important   \n",
              "\n",
              "      personalization            autonomy personalization_rank diversity_rank  \\\n",
              "0      Very important      Very important           1st Choice     2nd Choice   \n",
              "1  Somewhat important  Somewhat important           1st Choice     3rd Choice   \n",
              "2    Very unimportant    Very unimportant           2nd Choice     1st Choice   \n",
              "3  Somewhat important  Somewhat important           3rd Choice     2nd Choice   \n",
              "4      Very important      Very important           1st Choice     2nd Choice   \n",
              "\n",
              "  autonomy_rank  hist_freq     satisfaction_level  cluster  \n",
              "0    3rd Choice      Often         Very satisfied        0  \n",
              "1    2nd Choice  Sometimes  Somewhat dissatisfied        0  \n",
              "2    3rd Choice      Often                Neutral        0  \n",
              "3    1st Choice     Always     Somewhat satisfied        1  \n",
              "4    3rd Choice      Often     Somewhat satisfied        0  "
            ],
            "text/html": [
              "\n",
              "  <div id=\"df-abeaa702-ba14-4593-bffc-672e1b86d3e4\">\n",
              "    <div class=\"colab-df-container\">\n",
              "      <div>\n",
              "<style scoped>\n",
              "    .dataframe tbody tr th:only-of-type {\n",
              "        vertical-align: middle;\n",
              "    }\n",
              "\n",
              "    .dataframe tbody tr th {\n",
              "        vertical-align: top;\n",
              "    }\n",
              "\n",
              "    .dataframe thead th {\n",
              "        text-align: right;\n",
              "    }\n",
              "</style>\n",
              "<table border=\"1\" class=\"dataframe\">\n",
              "  <thead>\n",
              "    <tr style=\"text-align: right;\">\n",
              "      <th></th>\n",
              "      <th>age</th>\n",
              "      <th>gender</th>\n",
              "      <th>occupation</th>\n",
              "      <th>content_diversity</th>\n",
              "      <th>people_diversity</th>\n",
              "      <th>personalization</th>\n",
              "      <th>autonomy</th>\n",
              "      <th>personalization_rank</th>\n",
              "      <th>diversity_rank</th>\n",
              "      <th>autonomy_rank</th>\n",
              "      <th>hist_freq</th>\n",
              "      <th>satisfaction_level</th>\n",
              "      <th>cluster</th>\n",
              "    </tr>\n",
              "  </thead>\n",
              "  <tbody>\n",
              "    <tr>\n",
              "      <th>0</th>\n",
              "      <td>25-34</td>\n",
              "      <td>Male</td>\n",
              "      <td>Student</td>\n",
              "      <td>Very important</td>\n",
              "      <td>Somewhat unimportant</td>\n",
              "      <td>Very important</td>\n",
              "      <td>Very important</td>\n",
              "      <td>1st Choice</td>\n",
              "      <td>2nd Choice</td>\n",
              "      <td>3rd Choice</td>\n",
              "      <td>Often</td>\n",
              "      <td>Very satisfied</td>\n",
              "      <td>0</td>\n",
              "    </tr>\n",
              "    <tr>\n",
              "      <th>1</th>\n",
              "      <td>18-24</td>\n",
              "      <td>Female</td>\n",
              "      <td>Student</td>\n",
              "      <td>Very important</td>\n",
              "      <td>Somewhat important</td>\n",
              "      <td>Somewhat important</td>\n",
              "      <td>Somewhat important</td>\n",
              "      <td>1st Choice</td>\n",
              "      <td>3rd Choice</td>\n",
              "      <td>2nd Choice</td>\n",
              "      <td>Sometimes</td>\n",
              "      <td>Somewhat dissatisfied</td>\n",
              "      <td>0</td>\n",
              "    </tr>\n",
              "    <tr>\n",
              "      <th>2</th>\n",
              "      <td>35-44</td>\n",
              "      <td>Male</td>\n",
              "      <td>Employed</td>\n",
              "      <td>Very unimportant</td>\n",
              "      <td>Very unimportant</td>\n",
              "      <td>Very unimportant</td>\n",
              "      <td>Very unimportant</td>\n",
              "      <td>2nd Choice</td>\n",
              "      <td>1st Choice</td>\n",
              "      <td>3rd Choice</td>\n",
              "      <td>Often</td>\n",
              "      <td>Neutral</td>\n",
              "      <td>0</td>\n",
              "    </tr>\n",
              "    <tr>\n",
              "      <th>3</th>\n",
              "      <td>25-34</td>\n",
              "      <td>Male</td>\n",
              "      <td>Employed</td>\n",
              "      <td>Very important</td>\n",
              "      <td>Very important</td>\n",
              "      <td>Somewhat important</td>\n",
              "      <td>Somewhat important</td>\n",
              "      <td>3rd Choice</td>\n",
              "      <td>2nd Choice</td>\n",
              "      <td>1st Choice</td>\n",
              "      <td>Always</td>\n",
              "      <td>Somewhat satisfied</td>\n",
              "      <td>1</td>\n",
              "    </tr>\n",
              "    <tr>\n",
              "      <th>4</th>\n",
              "      <td>45-54</td>\n",
              "      <td>Male</td>\n",
              "      <td>Employed</td>\n",
              "      <td>Somewhat important</td>\n",
              "      <td>Somewhat important</td>\n",
              "      <td>Very important</td>\n",
              "      <td>Very important</td>\n",
              "      <td>1st Choice</td>\n",
              "      <td>2nd Choice</td>\n",
              "      <td>3rd Choice</td>\n",
              "      <td>Often</td>\n",
              "      <td>Somewhat satisfied</td>\n",
              "      <td>0</td>\n",
              "    </tr>\n",
              "  </tbody>\n",
              "</table>\n",
              "</div>\n",
              "      <button class=\"colab-df-convert\" onclick=\"convertToInteractive('df-abeaa702-ba14-4593-bffc-672e1b86d3e4')\"\n",
              "              title=\"Convert this dataframe to an interactive table.\"\n",
              "              style=\"display:none;\">\n",
              "        \n",
              "  <svg xmlns=\"http://www.w3.org/2000/svg\" height=\"24px\"viewBox=\"0 0 24 24\"\n",
              "       width=\"24px\">\n",
              "    <path d=\"M0 0h24v24H0V0z\" fill=\"none\"/>\n",
              "    <path d=\"M18.56 5.44l.94 2.06.94-2.06 2.06-.94-2.06-.94-.94-2.06-.94 2.06-2.06.94zm-11 1L8.5 8.5l.94-2.06 2.06-.94-2.06-.94L8.5 2.5l-.94 2.06-2.06.94zm10 10l.94 2.06.94-2.06 2.06-.94-2.06-.94-.94-2.06-.94 2.06-2.06.94z\"/><path d=\"M17.41 7.96l-1.37-1.37c-.4-.4-.92-.59-1.43-.59-.52 0-1.04.2-1.43.59L10.3 9.45l-7.72 7.72c-.78.78-.78 2.05 0 2.83L4 21.41c.39.39.9.59 1.41.59.51 0 1.02-.2 1.41-.59l7.78-7.78 2.81-2.81c.8-.78.8-2.07 0-2.86zM5.41 20L4 18.59l7.72-7.72 1.47 1.35L5.41 20z\"/>\n",
              "  </svg>\n",
              "      </button>\n",
              "      \n",
              "  <style>\n",
              "    .colab-df-container {\n",
              "      display:flex;\n",
              "      flex-wrap:wrap;\n",
              "      gap: 12px;\n",
              "    }\n",
              "\n",
              "    .colab-df-convert {\n",
              "      background-color: #E8F0FE;\n",
              "      border: none;\n",
              "      border-radius: 50%;\n",
              "      cursor: pointer;\n",
              "      display: none;\n",
              "      fill: #1967D2;\n",
              "      height: 32px;\n",
              "      padding: 0 0 0 0;\n",
              "      width: 32px;\n",
              "    }\n",
              "\n",
              "    .colab-df-convert:hover {\n",
              "      background-color: #E2EBFA;\n",
              "      box-shadow: 0px 1px 2px rgba(60, 64, 67, 0.3), 0px 1px 3px 1px rgba(60, 64, 67, 0.15);\n",
              "      fill: #174EA6;\n",
              "    }\n",
              "\n",
              "    [theme=dark] .colab-df-convert {\n",
              "      background-color: #3B4455;\n",
              "      fill: #D2E3FC;\n",
              "    }\n",
              "\n",
              "    [theme=dark] .colab-df-convert:hover {\n",
              "      background-color: #434B5C;\n",
              "      box-shadow: 0px 1px 3px 1px rgba(0, 0, 0, 0.15);\n",
              "      filter: drop-shadow(0px 1px 2px rgba(0, 0, 0, 0.3));\n",
              "      fill: #FFFFFF;\n",
              "    }\n",
              "  </style>\n",
              "\n",
              "      <script>\n",
              "        const buttonEl =\n",
              "          document.querySelector('#df-abeaa702-ba14-4593-bffc-672e1b86d3e4 button.colab-df-convert');\n",
              "        buttonEl.style.display =\n",
              "          google.colab.kernel.accessAllowed ? 'block' : 'none';\n",
              "\n",
              "        async function convertToInteractive(key) {\n",
              "          const element = document.querySelector('#df-abeaa702-ba14-4593-bffc-672e1b86d3e4');\n",
              "          const dataTable =\n",
              "            await google.colab.kernel.invokeFunction('convertToInteractive',\n",
              "                                                     [key], {});\n",
              "          if (!dataTable) return;\n",
              "\n",
              "          const docLinkHtml = 'Like what you see? Visit the ' +\n",
              "            '<a target=\"_blank\" href=https://colab.research.google.com/notebooks/data_table.ipynb>data table notebook</a>'\n",
              "            + ' to learn more about interactive tables.';\n",
              "          element.innerHTML = '';\n",
              "          dataTable['output_type'] = 'display_data';\n",
              "          await google.colab.output.renderOutput(dataTable, element);\n",
              "          const docLink = document.createElement('div');\n",
              "          docLink.innerHTML = docLinkHtml;\n",
              "          element.appendChild(docLink);\n",
              "        }\n",
              "      </script>\n",
              "    </div>\n",
              "  </div>\n",
              "  "
            ]
          },
          "metadata": {},
          "execution_count": 16
        }
      ]
    },
    {
      "cell_type": "code",
      "source": [
        "# Define a dictionary of age range and their midpoint values\n",
        "age_ranges = {\n",
        "    '18-24': 1,\n",
        "    '25-34': 2,\n",
        "    '35-44': 3,\n",
        "    '45-54': 4,\n",
        "    '55-64': 5,\n",
        "    '65 and above': 6\n",
        "}\n",
        "\n",
        "# Replace the age range with their midpoint values\n",
        "df_clus['age'] = df_clus['age'].map(age_ranges)\n",
        "\n",
        "\n",
        "\n",
        "# Map the categorical variable 'gender' to numerical values (0 or 1)\n",
        "df_clus['gender'] = df_clus['gender'].map({'Male': 1, 'Female': 2})\n",
        "\n",
        "\n",
        "\n",
        "# Convert value preferences into numerical format:\n",
        "\n",
        "# content diversity, people diversity, personalization and autonomy preferences\n",
        "ranking_mapping = {\"Very important\": 1, \"Somewhat important\": 2, \"Neutral\": 3, \"Somewhat unimportant\": 4, \"Very unimportant\": 5}\n",
        "for col in [\"content_diversity\", \"people_diversity\", \"personalization\", \"autonomy\"]:\n",
        "    df_clus[col] = df_clus[col].map(ranking_mapping)\n",
        "\n",
        "\n",
        "\n",
        "# Convert value preferences into numerical format:\n",
        "# Ranking preferences\n",
        "ranking_mapping = {\"1st Choice\": 1, \"2nd Choice\": 2, \"3rd Choice\": 3}\n",
        "\n",
        "for col in [\"personalization_rank\", \"diversity_rank\", \"autonomy_rank\"]:\n",
        "    df_clus[col] = df_clus[col].map(ranking_mapping)\n",
        "\n",
        "\n",
        "\n",
        "# Convert history frequencies into numerical format:\n",
        "ranking_mapping = {\"Always\": 1, \"Often\": 2, \"Sometimes\": 3, \"Rarely\": 4, \"Never\": 5}\n",
        "df_clus['hist_freq'] = df_clus['hist_freq'].map(ranking_mapping)\n",
        "\n",
        "\n",
        "\n",
        "# Convert history frequencies into numerical format:\n",
        "ranking_mapping = {\"Very satisfied\": 1, \"Somewhat satisfied\": 2, \"Neutral\": 3, \"Somewhat dissatisfied\": 4, \"Very dissatisfied\": 5}\n",
        "df_clus['satisfaction_level'] = df_clus['satisfaction_level'].map(ranking_mapping)\n",
        "\n",
        "\n",
        "\n",
        "# Convert occupation column into numerical format:\n",
        "ranking_mapping = {\"Student\": 1, \"Employed\": 2, \"Unemployed\": 3}\n",
        "df_clus['occupation'] = df_clus['occupation'].map(ranking_mapping)"
      ],
      "metadata": {
        "id": "UL8ZEchaYvSp"
      },
      "execution_count": null,
      "outputs": []
    },
    {
      "cell_type": "code",
      "source": [
        "df_clus.head()"
      ],
      "metadata": {
        "colab": {
          "base_uri": "https://localhost:8080/",
          "height": 206
        },
        "id": "sDjuJhIOcqyO",
        "outputId": "f43ae38c-9633-48ee-f96f-6723aade8cb8"
      },
      "execution_count": null,
      "outputs": [
        {
          "output_type": "execute_result",
          "data": {
            "text/plain": [
              "   age  gender  occupation  content_diversity  people_diversity  \\\n",
              "0    2     1.0           1                  1                 4   \n",
              "1    1     2.0           1                  1                 2   \n",
              "2    3     1.0           2                  5                 5   \n",
              "3    2     1.0           2                  1                 1   \n",
              "4    4     1.0           2                  2                 2   \n",
              "\n",
              "   personalization  autonomy  personalization_rank  diversity_rank  \\\n",
              "0                1         1                     1               2   \n",
              "1                2         2                     1               3   \n",
              "2                5         5                     2               1   \n",
              "3                2         2                     3               2   \n",
              "4                1         1                     1               2   \n",
              "\n",
              "   autonomy_rank  hist_freq  satisfaction_level  cluster  \n",
              "0              3          2                 1.0        0  \n",
              "1              2          3                 4.0        0  \n",
              "2              3          2                 3.0        0  \n",
              "3              1          1                 2.0        1  \n",
              "4              3          2                 2.0        0  "
            ],
            "text/html": [
              "\n",
              "  <div id=\"df-8ce73358-522e-4482-b3c1-fca5cf16f316\">\n",
              "    <div class=\"colab-df-container\">\n",
              "      <div>\n",
              "<style scoped>\n",
              "    .dataframe tbody tr th:only-of-type {\n",
              "        vertical-align: middle;\n",
              "    }\n",
              "\n",
              "    .dataframe tbody tr th {\n",
              "        vertical-align: top;\n",
              "    }\n",
              "\n",
              "    .dataframe thead th {\n",
              "        text-align: right;\n",
              "    }\n",
              "</style>\n",
              "<table border=\"1\" class=\"dataframe\">\n",
              "  <thead>\n",
              "    <tr style=\"text-align: right;\">\n",
              "      <th></th>\n",
              "      <th>age</th>\n",
              "      <th>gender</th>\n",
              "      <th>occupation</th>\n",
              "      <th>content_diversity</th>\n",
              "      <th>people_diversity</th>\n",
              "      <th>personalization</th>\n",
              "      <th>autonomy</th>\n",
              "      <th>personalization_rank</th>\n",
              "      <th>diversity_rank</th>\n",
              "      <th>autonomy_rank</th>\n",
              "      <th>hist_freq</th>\n",
              "      <th>satisfaction_level</th>\n",
              "      <th>cluster</th>\n",
              "    </tr>\n",
              "  </thead>\n",
              "  <tbody>\n",
              "    <tr>\n",
              "      <th>0</th>\n",
              "      <td>2</td>\n",
              "      <td>1.0</td>\n",
              "      <td>1</td>\n",
              "      <td>1</td>\n",
              "      <td>4</td>\n",
              "      <td>1</td>\n",
              "      <td>1</td>\n",
              "      <td>1</td>\n",
              "      <td>2</td>\n",
              "      <td>3</td>\n",
              "      <td>2</td>\n",
              "      <td>1.0</td>\n",
              "      <td>0</td>\n",
              "    </tr>\n",
              "    <tr>\n",
              "      <th>1</th>\n",
              "      <td>1</td>\n",
              "      <td>2.0</td>\n",
              "      <td>1</td>\n",
              "      <td>1</td>\n",
              "      <td>2</td>\n",
              "      <td>2</td>\n",
              "      <td>2</td>\n",
              "      <td>1</td>\n",
              "      <td>3</td>\n",
              "      <td>2</td>\n",
              "      <td>3</td>\n",
              "      <td>4.0</td>\n",
              "      <td>0</td>\n",
              "    </tr>\n",
              "    <tr>\n",
              "      <th>2</th>\n",
              "      <td>3</td>\n",
              "      <td>1.0</td>\n",
              "      <td>2</td>\n",
              "      <td>5</td>\n",
              "      <td>5</td>\n",
              "      <td>5</td>\n",
              "      <td>5</td>\n",
              "      <td>2</td>\n",
              "      <td>1</td>\n",
              "      <td>3</td>\n",
              "      <td>2</td>\n",
              "      <td>3.0</td>\n",
              "      <td>0</td>\n",
              "    </tr>\n",
              "    <tr>\n",
              "      <th>3</th>\n",
              "      <td>2</td>\n",
              "      <td>1.0</td>\n",
              "      <td>2</td>\n",
              "      <td>1</td>\n",
              "      <td>1</td>\n",
              "      <td>2</td>\n",
              "      <td>2</td>\n",
              "      <td>3</td>\n",
              "      <td>2</td>\n",
              "      <td>1</td>\n",
              "      <td>1</td>\n",
              "      <td>2.0</td>\n",
              "      <td>1</td>\n",
              "    </tr>\n",
              "    <tr>\n",
              "      <th>4</th>\n",
              "      <td>4</td>\n",
              "      <td>1.0</td>\n",
              "      <td>2</td>\n",
              "      <td>2</td>\n",
              "      <td>2</td>\n",
              "      <td>1</td>\n",
              "      <td>1</td>\n",
              "      <td>1</td>\n",
              "      <td>2</td>\n",
              "      <td>3</td>\n",
              "      <td>2</td>\n",
              "      <td>2.0</td>\n",
              "      <td>0</td>\n",
              "    </tr>\n",
              "  </tbody>\n",
              "</table>\n",
              "</div>\n",
              "      <button class=\"colab-df-convert\" onclick=\"convertToInteractive('df-8ce73358-522e-4482-b3c1-fca5cf16f316')\"\n",
              "              title=\"Convert this dataframe to an interactive table.\"\n",
              "              style=\"display:none;\">\n",
              "        \n",
              "  <svg xmlns=\"http://www.w3.org/2000/svg\" height=\"24px\"viewBox=\"0 0 24 24\"\n",
              "       width=\"24px\">\n",
              "    <path d=\"M0 0h24v24H0V0z\" fill=\"none\"/>\n",
              "    <path d=\"M18.56 5.44l.94 2.06.94-2.06 2.06-.94-2.06-.94-.94-2.06-.94 2.06-2.06.94zm-11 1L8.5 8.5l.94-2.06 2.06-.94-2.06-.94L8.5 2.5l-.94 2.06-2.06.94zm10 10l.94 2.06.94-2.06 2.06-.94-2.06-.94-.94-2.06-.94 2.06-2.06.94z\"/><path d=\"M17.41 7.96l-1.37-1.37c-.4-.4-.92-.59-1.43-.59-.52 0-1.04.2-1.43.59L10.3 9.45l-7.72 7.72c-.78.78-.78 2.05 0 2.83L4 21.41c.39.39.9.59 1.41.59.51 0 1.02-.2 1.41-.59l7.78-7.78 2.81-2.81c.8-.78.8-2.07 0-2.86zM5.41 20L4 18.59l7.72-7.72 1.47 1.35L5.41 20z\"/>\n",
              "  </svg>\n",
              "      </button>\n",
              "      \n",
              "  <style>\n",
              "    .colab-df-container {\n",
              "      display:flex;\n",
              "      flex-wrap:wrap;\n",
              "      gap: 12px;\n",
              "    }\n",
              "\n",
              "    .colab-df-convert {\n",
              "      background-color: #E8F0FE;\n",
              "      border: none;\n",
              "      border-radius: 50%;\n",
              "      cursor: pointer;\n",
              "      display: none;\n",
              "      fill: #1967D2;\n",
              "      height: 32px;\n",
              "      padding: 0 0 0 0;\n",
              "      width: 32px;\n",
              "    }\n",
              "\n",
              "    .colab-df-convert:hover {\n",
              "      background-color: #E2EBFA;\n",
              "      box-shadow: 0px 1px 2px rgba(60, 64, 67, 0.3), 0px 1px 3px 1px rgba(60, 64, 67, 0.15);\n",
              "      fill: #174EA6;\n",
              "    }\n",
              "\n",
              "    [theme=dark] .colab-df-convert {\n",
              "      background-color: #3B4455;\n",
              "      fill: #D2E3FC;\n",
              "    }\n",
              "\n",
              "    [theme=dark] .colab-df-convert:hover {\n",
              "      background-color: #434B5C;\n",
              "      box-shadow: 0px 1px 3px 1px rgba(0, 0, 0, 0.15);\n",
              "      filter: drop-shadow(0px 1px 2px rgba(0, 0, 0, 0.3));\n",
              "      fill: #FFFFFF;\n",
              "    }\n",
              "  </style>\n",
              "\n",
              "      <script>\n",
              "        const buttonEl =\n",
              "          document.querySelector('#df-8ce73358-522e-4482-b3c1-fca5cf16f316 button.colab-df-convert');\n",
              "        buttonEl.style.display =\n",
              "          google.colab.kernel.accessAllowed ? 'block' : 'none';\n",
              "\n",
              "        async function convertToInteractive(key) {\n",
              "          const element = document.querySelector('#df-8ce73358-522e-4482-b3c1-fca5cf16f316');\n",
              "          const dataTable =\n",
              "            await google.colab.kernel.invokeFunction('convertToInteractive',\n",
              "                                                     [key], {});\n",
              "          if (!dataTable) return;\n",
              "\n",
              "          const docLinkHtml = 'Like what you see? Visit the ' +\n",
              "            '<a target=\"_blank\" href=https://colab.research.google.com/notebooks/data_table.ipynb>data table notebook</a>'\n",
              "            + ' to learn more about interactive tables.';\n",
              "          element.innerHTML = '';\n",
              "          dataTable['output_type'] = 'display_data';\n",
              "          await google.colab.output.renderOutput(dataTable, element);\n",
              "          const docLink = document.createElement('div');\n",
              "          docLink.innerHTML = docLinkHtml;\n",
              "          element.appendChild(docLink);\n",
              "        }\n",
              "      </script>\n",
              "    </div>\n",
              "  </div>\n",
              "  "
            ]
          },
          "metadata": {},
          "execution_count": 18
        }
      ]
    },
    {
      "cell_type": "code",
      "source": [
        "# Create separate DataFrames for each cluster\n",
        "df_clus_1 = df_clus[df_clus['cluster'] == 0]\n",
        "df_clus_2 = df_clus[df_clus['cluster'] == 1]\n",
        "# df_clus_3 = df_clus[df_clus['cluster'] == 2]"
      ],
      "metadata": {
        "id": "2jAZSYmoZztn"
      },
      "execution_count": null,
      "outputs": []
    },
    {
      "cell_type": "code",
      "source": [
        "print(\"Cluster0:\", df_clus_1.shape, \"Cluster1:\", df_clus_2.shape)"
      ],
      "metadata": {
        "colab": {
          "base_uri": "https://localhost:8080/"
        },
        "id": "TD62Rb4waU96",
        "outputId": "ff69a6f2-0ef6-4e23-f7d6-ce1079f14ced"
      },
      "execution_count": null,
      "outputs": [
        {
          "output_type": "stream",
          "name": "stdout",
          "text": [
            "Cluster0: (63, 13) Cluster1: (29, 13)\n"
          ]
        }
      ]
    },
    {
      "cell_type": "code",
      "source": [
        "# calculate the mean of each column in the three data frames\n",
        "mean_df = pd.concat([df_clus_1.mean(), df_clus_2.mean()], axis=1)\n",
        "mean_df.columns = ['df_clus_1', 'df_clus_2']\n",
        "\n",
        "# print the result\n",
        "print(mean_df)"
      ],
      "metadata": {
        "colab": {
          "base_uri": "https://localhost:8080/"
        },
        "id": "xp_JYmAscNoh",
        "outputId": "adc3e583-cd8b-42fe-bf0b-c3a3c9a86108"
      },
      "execution_count": null,
      "outputs": [
        {
          "output_type": "stream",
          "name": "stdout",
          "text": [
            "                      df_clus_1  df_clus_2\n",
            "age                    1.555556   1.793103\n",
            "gender                 1.555556   1.321429\n",
            "occupation             1.396825   1.517241\n",
            "content_diversity      2.031746   2.172414\n",
            "people_diversity       2.571429   2.896552\n",
            "personalization        2.015873   2.448276\n",
            "autonomy               2.333333   1.655172\n",
            "personalization_rank   1.174603   2.413793\n",
            "diversity_rank         1.984127   2.344828\n",
            "autonomy_rank          2.841270   1.241379\n",
            "hist_freq              3.126984   2.965517\n",
            "satisfaction_level     2.694915   2.827586\n",
            "cluster                0.000000   1.000000\n"
          ]
        }
      ]
    }
  ]
}